{
 "cells": [
  {
   "cell_type": "markdown",
   "metadata": {},
   "source": [
    "# Pairs Trading with Machine Learning, Part 2\n",
    "## Companian Notebook: Plot Word Clouds\n",
    "\n",
    "[Jonathan Larkin](mailto:jlarkin@quantopian.com)\n",
    "\n",
    "September 2017"
   ]
  },
  {
   "cell_type": "code",
   "execution_count": 1,
   "metadata": {},
   "outputs": [],
   "source": [
    "from wordcloud import WordCloud\n",
    "\n",
    "def visualize_cluster(word_features, idf_matrix, labels, which_cluster, tickers):\n",
    "    \n",
    "    def plot_wc(i, idf, word_features):\n",
    "        freq = idf[i,:].flatten()\n",
    "        ngrams = word_features[freq>0].tolist()\n",
    "        ngrams = [item.replace(' ', '+') for item in ngrams]\n",
    "\n",
    "        frequencies = zip(\n",
    "            ngrams,\n",
    "            freq[freq>0].tolist()\n",
    "        )\n",
    "\n",
    "        wordcloud = WordCloud(background_color=\"white\",max_font_size=48).generate_from_frequencies(dict(frequencies))\n",
    "        plt.imshow(wordcloud, interpolation=\"bilinear\")\n",
    "        plt.title(tickers[i])\n",
    "        plt.axis(\"off\")\n",
    "    \n",
    "    idf = idf_matrix[labels==which_cluster, :].toarray()\n",
    "    num_stocks = idf.shape[0]\n",
    "    num_cols = 2\n",
    "    num_rows = num_stocks // num_cols \n",
    "    num_rows += num_stocks % num_cols\n",
    "    position = range(1,num_stocks + 1)\n",
    "\n",
    "    fig = plt.figure(1)\n",
    "    for k in range(num_stocks):\n",
    "      ax = fig.add_subplot(num_rows, num_cols, position[k])\n",
    "      plot_wc(k, idf, word_features)\n",
    "\n",
    "    plt.tight_layout(h_pad=0, w_pad=0)\n",
    "    plt.show()\n"
   ]
  },
  {
   "cell_type": "markdown",
   "metadata": {},
   "source": [
    "_This presentation is for informational purposes only and does not constitute an offer to sell, a solicitation to buy, or a recommendation for any security; nor does it constitute an offer to provide investment advisory or other services by Quantopian, Inc. (\"Quantopian\"). Nothing contained herein constitutes investment advice or offers any opinion with respect to the suitability of any security, and any views expressed herein should not be taken as advice to buy, sell, or hold any security or as an endorsement of any security or company. In preparing the information contained herein, Quantopian, Inc. has not taken into account the investment needs, objectives, and financial circumstances of any particular investor. Any views expressed and data illustrated herein were prepared based upon information, believed to be reliable, available to Quantopian, Inc. at the time of publication. Quantopian makes no guarantees as to their accuracy or completeness. All information is subject to change and may quickly become unreliable for various reasons, including changes in market conditions or economic circumstances._"
   ]
  }
 ],
 "metadata": {
  "kernelspec": {
   "display_name": "Python [default]",
   "language": "python",
   "name": "python2"
  },
  "language_info": {
   "codemirror_mode": {
    "name": "ipython",
    "version": 2
   },
   "file_extension": ".py",
   "mimetype": "text/x-python",
   "name": "python",
   "nbconvert_exporter": "python",
   "pygments_lexer": "ipython2",
   "version": "2.7.13"
  }
 },
 "nbformat": 4,
 "nbformat_minor": 2
}
